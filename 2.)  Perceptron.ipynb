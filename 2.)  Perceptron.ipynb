{
 "cells": [
  {
   "cell_type": "markdown",
   "metadata": {},
   "source": [
    "## Perceptron :\n",
    "to use a reductionist approach to mimic how a single neuron in the brain works.\n",
    "\n"
   ]
  },
  {
   "cell_type": "code",
   "execution_count": 1,
   "metadata": {},
   "outputs": [],
   "source": [
    "import numpy as np\n",
    "import pandas as pd\n",
    "import matplotlib.pyplot as plt\n",
    "from matplotlib.colors import ListedColormap"
   ]
  },
  {
   "cell_type": "code",
   "execution_count": 2,
   "metadata": {},
   "outputs": [],
   "source": [
    "df = pd.read_csv('iris.data.csv', header=None)  # reading dataset\n",
    "df.tail()\n",
    "\n",
    "y = df.iloc[0:100, 4].values\n",
    "y = np.where(y == 'Iris-setosa', -1, 1) # converting output if it is Isis Sentosa puting as -1 and if not putting as 1\n",
    "\n",
    "X = df.iloc[0:100, [0, 2]].values  # taking first 100 values and first 2 columns only \n"
   ]
  },
  {
   "cell_type": "code",
   "execution_count": 3,
   "metadata": {},
   "outputs": [
    {
     "data": {
      "image/png": "[encoded data removed]",
      "text/plain": [
       "<Figure size 432x288 with 1 Axes>"
      ]
     },
     "metadata": {
      "needs_background": "light"
     },
     "output_type": "display_data"
    }
   ],
   "source": [
    "# ploting data to see linearly saperable or  not \n",
    "\n",
    "plt.scatter(X[:50, 0], X[:50, 1],color='red', marker='o', label='setosa')\n",
    "plt.scatter(X[50:100, 0], X[50:100, 1],color='blue', marker='x', label='versicolor')\n",
    "\n",
    "plt.xlabel('petal length [cm]')\n",
    "plt.ylabel('sepal length [cm]')\n",
    "plt.legend(loc='upper left')\n",
    "\n",
    "plt.tight_layout()\n",
    "# # plt.savefig('./iris_1.png', dpi=300)\n",
    "plt.show()"
   ]
  },
  {
   "cell_type": "code",
   "execution_count": 4,
   "metadata": {},
   "outputs": [],
   "source": [
    "# coding Perceptron\n",
    "\n",
    "class Perceptron(object):\n",
    "  \n",
    "    def __init__(self, eta=0.01, n_iter=10):\n",
    "        self.eta = eta        # Step value , it will change by 0.01 for every iterations , thus eta is used and it is greek symbol\n",
    "        self.n_iter = n_iter  # number of iterations\n",
    "\n",
    "    def fit(self, X, y):    # fit function\n",
    "        self.w_ = np.zeros(1 + X.shape[1]) # w0 will be a constant . w1 ... wn , X.shape[1] is input  , shape[1] is column , shape[0] is row \n",
    "        print(self.w_)\n",
    "        self.errors_ = []\n",
    "\n",
    "        for _ in range(self.n_iter):\n",
    "            errors = 0    # initalizing errors to 0\n",
    "            for xi, target in zip(X, y):  \n",
    "                update = self.eta * (target - self.predict(xi)) # update the value by eta times the target minus prediction\n",
    "                self.w_[1:] += update * xi # update the weights \n",
    "                self.w_[0] += update #update the constant\n",
    "                errors += int(update != 0.0) # increementing error value , will count no. of error prediction\n",
    "            self.errors_.append(errors) # appending value to actual total list of  errors \n",
    "        return self\n",
    "\n",
    "    def net_input(self, X):       \n",
    "        return np.dot(X, self.w_[1:]) + self.w_[0] \n",
    "    # net input : x value with dot product of weights plus some constant value i.e. (x.w)+c\n",
    "    \n",
    "    def predict(self, X): # predict function : will check net intput\n",
    "        return np.where(self.net_input(X) >= 0.0, 1, -1) #if sample  weight is above 0 , predict as 1 otherwise -1 , threshold value = 0.0"
   ]
  },
  {
   "cell_type": "code",
   "execution_count": 5,
   "metadata": {},
   "outputs": [
    {
     "name": "stdout",
     "output_type": "stream",
     "text": [
      "[0. 0. 0.]\n"
     ]
    },
    {
     "data": {
      "image/png": "[encoded data removed]",
      "text/plain": [
       "<Figure size 432x288 with 1 Axes>"
      ]
     },
     "metadata": {
      "needs_background": "light"
     },
     "output_type": "display_data"
    }
   ],
   "source": [
    "# creating perceptrnon\n",
    "\n",
    "ppn = Perceptron(eta=0.01,n_iter=10)\n",
    "ppn.fit(X,y)\n",
    "plt.plot(range(1,len(ppn.errors_)+1), ppn.errors_,marker='s') # plotting errors \n",
    "plt.show()"
   ]
  },
  {
   "cell_type": "code",
   "execution_count": 6,
   "metadata": {},
   "outputs": [],
   "source": [
    "def plot_dec_reg(X,y,classifier,resolution = 0.02):\n",
    "    marker = ('s','o')\n",
    "    colors = ('red','blue')\n",
    "    cmap = ListedColormap(colors[:len(np.unique(y))])\n",
    "    \n",
    "    x1_min,x1_max = X[:,0].min(),X[:,0].max()\n",
    "    x2_min,x2_max = X[:,1].min(),X[:,1].max()\n",
    "    \n",
    "    xx1 ,xx2 = np.meshgrid(np.arange(x1_min,x1_max,resolution),\n",
    "                          np.arange(x2_min,x2_max,resolution))\n",
    "    print(xx1)\n",
    "    print(xx2)\n",
    "    print(np.array([xx1.ravel(),xx2.ravel()]).T.shape)\n",
    "    Z = classifier.predict(np.array([xx1.ravel(),xx2.ravel()]).T)\n",
    "    print(Z)\n",
    "    Z= Z.reshape(xx1.shape)\n",
    "    print(Z)\n",
    "    plt.contourf(xx1,xx2,Z,alpha = 0.3,cmap = cmap)\n",
    "    plt.xlim(x1_min,x1_max)\n",
    "    plt.ylim(x2_min,x2_max)\n",
    "    \n",
    "    for i,cl in enumerate(np.unique(y)):\n",
    "        plt.scatter(x=X[y==cl,0],y=X[y==cl,1],c=colors[i],marker=marker[i],label=cl)\n"
   ]
  },
  {
   "cell_type": "code",
   "execution_count": 7,
   "metadata": {},
   "outputs": [
    {
     "name": "stdout",
     "output_type": "stream",
     "text": [
      "[[4.3  4.32 4.34 ... 6.94 6.96 6.98]\n",
      " [4.3  4.32 4.34 ... 6.94 6.96 6.98]\n",
      " [4.3  4.32 4.34 ... 6.94 6.96 6.98]\n",
      " ...\n",
      " [4.3  4.32 4.34 ... 6.94 6.96 6.98]\n",
      " [4.3  4.32 4.34 ... 6.94 6.96 6.98]\n",
      " [4.3  4.32 4.34 ... 6.94 6.96 6.98]]\n",
      "[[1.   1.   1.   ... 1.   1.   1.  ]\n",
      " [1.02 1.02 1.02 ... 1.02 1.02 1.02]\n",
      " [1.04 1.04 1.04 ... 1.04 1.04 1.04]\n",
      " ...\n",
      " [5.04 5.04 5.04 ... 5.04 5.04 5.04]\n",
      " [5.06 5.06 5.06 ... 5.06 5.06 5.06]\n",
      " [5.08 5.08 5.08 ... 5.08 5.08 5.08]]\n",
      "(27675, 2)\n",
      "[-1 -1 -1 ...  1  1  1]\n",
      "[[-1 -1 -1 ... -1 -1 -1]\n",
      " [-1 -1 -1 ... -1 -1 -1]\n",
      " [-1 -1 -1 ... -1 -1 -1]\n",
      " ...\n",
      " [ 1  1  1 ...  1  1  1]\n",
      " [ 1  1  1 ...  1  1  1]\n",
      " [ 1  1  1 ...  1  1  1]]\n"
     ]
    },
    {
     "data": {
      "image/png": "[encoded data removed]",
      "text/plain": [
       "<Figure size 432x288 with 1 Axes>"
      ]
     },
     "metadata": {
      "needs_background": "light"
     },
     "output_type": "display_data"
    }
   ],
   "source": [
    "plot_dec_reg(X,y,classifier=ppn)"
   ]
  }
 ],
 "metadata": {
  "kernelspec": {
   "display_name": "Python 3",
   "language": "python",
   "name": "python3"
  },
  "language_info": {
   "codemirror_mode": {
    "name": "ipython",
    "version": 3
   },
   "file_extension": ".py",
   "mimetype": "text/x-python",
   "name": "python",
   "nbconvert_exporter": "python",
   "pygments_lexer": "ipython3",
   "version": "3.9.5"
  }
 },
 "nbformat": 4,
 "nbformat_minor": 4
}
