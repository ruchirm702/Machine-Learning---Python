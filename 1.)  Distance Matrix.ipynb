{
 "cells": [
  {
   "cell_type": "markdown",
   "metadata": {},
   "source": [
    "# `Distance Metrics`"
   ]
  },
  {
   "cell_type": "code",
   "execution_count": 6,
   "metadata": {},
   "outputs": [],
   "source": [
    "import matplotlib.pyplot as plt\n",
    "import pylab"
   ]
  },
  {
   "cell_type": "code",
   "execution_count": 7,
   "metadata": {},
   "outputs": [],
   "source": [
    "def minkowskiDist(v1,v2,p):\n",
    "    dist = 0.0\n",
    "    for i in range(len(v1)):\n",
    "        dist += abs(v1[i] - v2[i])**p\n",
    "    return dist**(1.0/p)"
   ]
  },
  {
   "cell_type": "code",
   "execution_count": 32,
   "metadata": {},
   "outputs": [],
   "source": [
    "class Animal(object):\n",
    "    def __init__(self,name,features):\n",
    "        self.name =  name\n",
    "        self.features = pylab.array(features)\n",
    "    \n",
    "    def getname(self):\n",
    "        return self.name\n",
    "    \n",
    "    def getFeatures(self):\n",
    "        return self.features\n",
    "    \n",
    "    def distance(self, other):\n",
    "        return minkowskiDist(self.getFeatures(),other.getFeatures(),2)"
   ]
  },
  {
   "cell_type": "code",
   "execution_count": 51,
   "metadata": {},
   "outputs": [],
   "source": [
    "def compAnimals(animals,presc):\n",
    "    columnLabels =[]\n",
    "    for a in animals:\n",
    "        columnLabels.append(a.getname())\n",
    "    rowLabels = columnLabels[:]\n",
    "    distValue = []\n",
    "    for a1 in animals:\n",
    "        row =[]\n",
    "        for a2 in animals:\n",
    "            if a1==a2:\n",
    "                row.append('*')\n",
    "            else:\n",
    "                dist = a1.distance(a2)\n",
    "                row.append(str(round(dist,presc)))\n",
    "        distValue.append(row)\n",
    "    fig,ax= plt.subplots()\n",
    "    ax.set_axis_off()\n",
    "    table = ax.table(cellText=distValue,rowLabels = rowLabels, colLabels = columnLabels,rowColours =[\"palegreen\"] * 10,colColours =[\"palegreen\"] * 10, cellLoc ='center' ,loc='best')\n",
    "    ax.set_title(\"Distance Vector Table\", fontweight=\"bold\")\n",
    "    plt.show()"
   ]
  },
  {
   "cell_type": "code",
   "execution_count": 54,
   "metadata": {},
   "outputs": [
    {
     "data": {
      "image/png": "[encoded data removed]",
      "text/plain": [
       "<Figure size 432x288 with 1 Axes>"
      ]
     },
     "metadata": {
      "needs_background": "light"
     },
     "output_type": "display_data"
    }
   ],
   "source": [
    "cobra = Animal('cobra',[1,1,1,1,0])\n",
    "rattlesnake = Animal('rattlesnake',[1,1,1,1,0])\n",
    "boa = Animal('boa',[0,1,0,1,0])\n",
    "animals = [rattlesnake,boa,cobra]\n",
    "compAnimals(animals,3)"
   ]
  },
  {
   "cell_type": "code",
   "execution_count": 53,
   "metadata": {},
   "outputs": [
    {
     "data": {
      "image/png": "[encoded data removed]",
      "text/plain": [
       "<Figure size 432x288 with 1 Axes>"
      ]
     },
     "metadata": {
      "needs_background": "light"
     },
     "output_type": "display_data"
    }
   ],
   "source": [
    "dartfrog = Animal('dart frog',[1,0,1,0,4])\n",
    "aligator = Animal('aligator',[1,1,0,1,4])\n",
    "animals.append(dartfrog)\n",
    "animals.append(aligator)\n",
    "compareAni(animals,3)"
   ]
  },
  {
   "cell_type": "code",
   "execution_count": null,
   "metadata": {},
   "outputs": [],
   "source": []
  },
  {
   "cell_type": "code",
   "execution_count": null,
   "metadata": {},
   "outputs": [],
   "source": []
  }
 ],
 "metadata": {
  "kernelspec": {
   "display_name": "Python 3",
   "language": "python",
   "name": "python3"
  },
  "language_info": {
   "codemirror_mode": {
    "name": "ipython",
    "version": 3
   },
   "file_extension": ".py",
   "mimetype": "text/x-python",
   "name": "python",
   "nbconvert_exporter": "python",
   "pygments_lexer": "ipython3",
   "version": "3.9.5"
  }
 },
 "nbformat": 4,
 "nbformat_minor": 4
}
